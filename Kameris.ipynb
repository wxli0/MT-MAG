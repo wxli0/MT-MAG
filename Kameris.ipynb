{
 "cells": [
  {
   "cell_type": "code",
   "execution_count": 1,
   "metadata": {
    "colab": {},
    "colab_type": "code",
    "id": "xkU4jbp6QEGU"
   },
   "outputs": [],
   "source": [
    "# Dependencies\n",
    "import random\n",
    "import pickle\n",
    "import statistics\n",
    "import numpy as np\n",
    "\n",
    "from Bio import SeqIO\n",
    "from sklearn.metrics import accuracy_score\n",
    "from sklearn.preprocessing import normalize\n",
    "from sklearn.metrics import confusion_matrix\n",
    "from helpers import getStats, plotDict, kmer_count, build_pipeline, plot_confusion_matrix"
   ]
  },
  {
   "cell_type": "markdown",
   "metadata": {},
   "source": [
    "## Reading the data from pickle file:\n",
    " The data file must be a list of tuples with the following format: \n",
    " ```[(label, sequence)]```"
   ]
  },
  {
   "cell_type": "code",
   "execution_count": 2,
   "metadata": {
    "colab": {},
    "colab_type": "code",
    "id": "ySVS0DOLxjUW"
   },
   "outputs": [
    {
     "name": "stdout",
     "output_type": "stream",
     "text": [
      "6625\n"
     ]
    }
   ],
   "source": [
    "filename = 'data.p'\n",
    "\n",
    "with open(filename, 'rb') as f:\n",
    "    data = pickle.load(f)\n",
    "    \n",
    "print(len(data))"
   ]
  },
  {
   "cell_type": "markdown",
   "metadata": {},
   "source": [
    "## Get some statistics about the data."
   ]
  },
  {
   "cell_type": "code",
   "execution_count": 3,
   "metadata": {
    "colab": {
     "base_uri": "https://localhost:8080/",
     "height": 1000
    },
    "colab_type": "code",
    "id": "HSYWaoL5wDtO",
    "outputId": "82d5cf40-e3ac-4a65-c2be-5165f8ac7f52"
   },
   "outputs": [
    {
     "name": "stdout",
     "output_type": "stream",
     "text": [
      "-----------some stats: ------------\n",
      "total num of classes:  195\n",
      "total num of samples:  6625\n",
      "max genome length:  10340\n",
      "occurences: \n",
      "         =>       19\n",
      "02D      =>        6\n",
      "41_CD    =>        3\n",
      "BF       =>       34\n",
      "A1GHU    =>        1\n",
      "A1C      =>       75\n",
      "AC       =>        2\n",
      "A1GJ     =>        1\n",
      "02A1F2   =>        2\n",
      "01DU     =>        1\n",
      "73_BG    =>        1\n",
      "03_AB    =>        3\n",
      "02C      =>        1\n",
      "A2C      =>        2\n",
      "A1DG     =>        1\n",
      "GKU      =>        2\n",
      "A1A2D    =>        3\n",
      "55_01B   =>        7\n",
      "47_BF    =>        5\n",
      "01A1     =>        5\n",
      "44_BF    =>        2\n",
      "17_BF    =>        7\n",
      "35_AD    =>       20\n",
      "D        =>       81\n",
      "53_01B   =>        3\n",
      "60_BC    =>        3\n",
      "02B      =>        7\n",
      "DG       =>        3\n",
      "16_A2D   =>        4\n",
      "74_01B   =>        3\n",
      "A        =>        6\n",
      "26C      =>        3\n",
      "46_BF    =>        7\n",
      "0107     =>       13\n",
      "85_BC    =>        9\n",
      "AF2      =>        1\n",
      "F2KU     =>        1\n",
      "01F2G    =>        1\n",
      "02A1G    =>        1\n",
      "1819     =>        1\n",
      "51_01B   =>        4\n",
      "54_01B   =>        2\n",
      "AD       =>        1\n",
      "06U      =>        3\n",
      "06G      =>        1\n",
      "14F1     =>        1\n",
      "71_BF1   =>       12\n",
      "58_01B   =>        6\n",
      "B        =>     2464\n",
      "02G      =>        9\n",
      "0213     =>        1\n",
      "01C      =>        8\n",
      "A1CDGKU  =>        1\n",
      "BFG      =>        1\n",
      "01BC     =>       19\n",
      "40_BF    =>        4\n",
      "87_cpx   =>        3\n",
      "JU       =>        1\n",
      "A1F2     =>        2\n",
      "A1GH     =>        1\n",
      "A2G      =>        1\n",
      "11_cpx   =>       22\n",
      "29_BF    =>        7\n",
      "28_BF    =>        5\n",
      "88_BC    =>        3\n",
      "ACD      =>        1\n",
      "36_cpx   =>        3\n",
      "39_BF    =>        3\n",
      "DO       =>        2\n",
      "0708     =>        3\n",
      "N        =>       11\n",
      "02H      =>        1\n",
      "0108     =>        2\n",
      "F1       =>       57\n",
      "02GK     =>        1\n",
      "A1CG     =>        2\n",
      "01F2     =>        1\n",
      "70_BF1   =>        5\n",
      "05_DF    =>        3\n",
      "14_BG    =>       12\n",
      "43_02G   =>        4\n",
      "31_BC    =>        3\n",
      "A1A2C    =>        2\n",
      "01B      =>      104\n",
      "A1U      =>        7\n",
      "12_BF    =>        5\n",
      "48_01B   =>        3\n",
      "A1B      =>        6\n",
      "A1GU     =>        1\n",
      "34_01B   =>        3\n",
      "20_BG    =>        4\n",
      "DF1G     =>        1\n",
      "64_BC    =>        9\n",
      "A1A2CD   =>        3\n",
      "65_cpx   =>        4\n",
      "32_06A1  =>        2\n",
      "AGKU     =>        2\n",
      "P        =>        3\n",
      "02A1     =>       41\n",
      "G        =>       75\n",
      "11A1     =>        1\n",
      "01AF2U   =>        1\n",
      "A1       =>      319\n",
      "AGU      =>        1\n",
      "01A1F2   =>        1\n",
      "06A1     =>        1\n",
      "0206     =>        8\n",
      "42_BF    =>       17\n",
      "13_cpx   =>        8\n",
      "37_cpx   =>        4\n",
      "BCG      =>        1\n",
      "50_A1D   =>        5\n",
      "59_01B   =>        9\n",
      "26_AU    =>        4\n",
      "CF1      =>        3\n",
      "BC       =>       85\n",
      "A1G      =>        8\n",
      "02F2     =>        1\n",
      "24_BG    =>        6\n",
      "10_CD    =>        3\n",
      "01ADF2   =>        1\n",
      "49_cpx   =>        3\n",
      "38_BF    =>        1\n",
      "A1CD     =>       24\n",
      "62_BC    =>        3\n",
      "02A1U    =>        1\n",
      "19_cpx   =>        5\n",
      "02U      =>        2\n",
      "AKU      =>        1\n",
      "02AG     =>        1\n",
      "J        =>        7\n",
      "A2       =>        3\n",
      "0222     =>        5\n",
      "02_AG    =>      125\n",
      "AHJU     =>        2\n",
      "69_01B   =>        7\n",
      "06_cpx   =>       12\n",
      "25_cpx   =>        5\n",
      "38_BF1   =>        4\n",
      "02BG     =>        1\n",
      "A1K      =>        1\n",
      "67_01B   =>        2\n",
      "BCU      =>        1\n",
      "F1F2     =>        1\n",
      "A2CD     =>        1\n",
      "K        =>        2\n",
      "0306     =>        1\n",
      "07B      =>        1\n",
      "61_BC    =>        3\n",
      "BF1      =>      103\n",
      "72_BF1   =>        5\n",
      "U        =>       18\n",
      "A1DHK    =>        1\n",
      "0102A    =>        3\n",
      "68_01B   =>        3\n",
      "27_cpx   =>        3\n",
      "63_02A1  =>       11\n",
      "22_01A1  =>       16\n",
      "A1A2     =>        2\n",
      "CD       =>       59\n",
      "F2       =>        9\n",
      "A1H      =>        3\n",
      "C        =>     1299\n",
      "02BD     =>        1\n",
      "57_BC    =>        4\n",
      "02O      =>        2\n",
      "AF2G     =>        1\n",
      "O        =>       51\n",
      "CU       =>        4\n",
      "07_BC    =>       41\n",
      "18_cpx   =>        5\n",
      "02A      =>        1\n",
      "23_BG    =>        2\n",
      "BCF1     =>        4\n",
      "21_A2D   =>        3\n",
      "56_cpx   =>        4\n",
      "33_01B   =>        7\n",
      "15_01B   =>        7\n",
      "77_cpx   =>        4\n",
      "01_AE    =>      707\n",
      "0225     =>        1\n",
      "26CU     =>        1\n",
      "08_BC    =>       36\n",
      "A1D      =>       75\n",
      "A1DK     =>        2\n",
      "04_cpx   =>        6\n",
      "02F2G    =>        1\n",
      "H        =>        9\n",
      "01A1G    =>        2\n",
      "A1BD     =>        1\n",
      "09_cpx   =>        5\n",
      "BG       =>        9\n",
      "45_cpx   =>        5\n",
      "0209     =>        4\n",
      "A6       =>       52\n",
      "-----------------------------------\n"
     ]
    },
    {
     "data": {
      "image/png": "[encoded data removed]",
      "text/plain": [
       "<Figure size 432x288 with 1 Axes>"
      ]
     },
     "metadata": {
      "needs_background": "light"
     },
     "output_type": "display_data"
    },
    {
     "name": "stdout",
     "output_type": "stream",
     "text": [
      "{'': 1, '02D': 2, '41_CD': 3, 'BF': 4, 'A1GHU': 5, 'A1C': 6, 'AC': 7, 'A1GJ': 8, '02A1F2': 9, '01DU': 10, '73_BG': 11, '03_AB': 12, '02C': 13, 'A2C': 14, 'A1DG': 15, 'GKU': 16, 'A1A2D': 17, '55_01B': 18, '47_BF': 19, '01A1': 20, '44_BF': 21, '17_BF': 22, '35_AD': 23, 'D': 24, '53_01B': 25, '60_BC': 26, '02B': 27, 'DG': 28, '16_A2D': 29, '74_01B': 30, 'A': 31, '26C': 32, '46_BF': 33, '0107': 34, '85_BC': 35, 'AF2': 36, 'F2KU': 37, '01F2G': 38, '02A1G': 39, '1819': 40, '51_01B': 41, '54_01B': 42, 'AD': 43, '06U': 44, '06G': 45, '14F1': 46, '71_BF1': 47, '58_01B': 48, 'B': 49, '02G': 50, '0213': 51, '01C': 52, 'A1CDGKU': 53, 'BFG': 54, '01BC': 55, '40_BF': 56, '87_cpx': 57, 'JU': 58, 'A1F2': 59, 'A1GH': 60, 'A2G': 61, '11_cpx': 62, '29_BF': 63, '28_BF': 64, '88_BC': 65, 'ACD': 66, '36_cpx': 67, '39_BF': 68, 'DO': 69, '0708': 70, 'N': 71, '02H': 72, '0108': 73, 'F1': 74, '02GK': 75, 'A1CG': 76, '01F2': 77, '70_BF1': 78, '05_DF': 79, '14_BG': 80, '43_02G': 81, '31_BC': 82, 'A1A2C': 83, '01B': 84, 'A1U': 85, '12_BF': 86, '48_01B': 87, 'A1B': 88, 'A1GU': 89, '34_01B': 90, '20_BG': 91, 'DF1G': 92, '64_BC': 93, 'A1A2CD': 94, '65_cpx': 95, '32_06A1': 96, 'AGKU': 97, 'P': 98, '02A1': 99, 'G': 100, '11A1': 101, '01AF2U': 102, 'A1': 103, 'AGU': 104, '01A1F2': 105, '06A1': 106, '0206': 107, '42_BF': 108, '13_cpx': 109, '37_cpx': 110, 'BCG': 111, '50_A1D': 112, '59_01B': 113, '26_AU': 114, 'CF1': 115, 'BC': 116, 'A1G': 117, '02F2': 118, '24_BG': 119, '10_CD': 120, '01ADF2': 121, '49_cpx': 122, '38_BF': 123, 'A1CD': 124, '62_BC': 125, '02A1U': 126, '19_cpx': 127, '02U': 128, 'AKU': 129, '02AG': 130, 'J': 131, 'A2': 132, '0222': 133, '02_AG': 134, 'AHJU': 135, '69_01B': 136, '06_cpx': 137, '25_cpx': 138, '38_BF1': 139, '02BG': 140, 'A1K': 141, '67_01B': 142, 'BCU': 143, 'F1F2': 144, 'A2CD': 145, 'K': 146, '0306': 147, '07B': 148, '61_BC': 149, 'BF1': 150, '72_BF1': 151, 'U': 152, 'A1DHK': 153, '0102A': 154, '68_01B': 155, '27_cpx': 156, '63_02A1': 157, '22_01A1': 158, 'A1A2': 159, 'CD': 160, 'F2': 161, 'A1H': 162, 'C': 163, '02BD': 164, '57_BC': 165, '02O': 166, 'AF2G': 167, 'O': 168, 'CU': 169, '07_BC': 170, '18_cpx': 171, '02A': 172, '23_BG': 173, 'BCF1': 174, '21_A2D': 175, '56_cpx': 176, '33_01B': 177, '15_01B': 178, '77_cpx': 179, '01_AE': 180, '0225': 181, '26CU': 182, '08_BC': 183, 'A1D': 184, 'A1DK': 185, '04_cpx': 186, '02F2G': 187, 'H': 188, '01A1G': 189, 'A1BD': 190, '09_cpx': 191, 'BG': 192, '45_cpx': 193, '0209': 194, 'A6': 195}\n"
     ]
    }
   ],
   "source": [
    "unique_labels = list(set(map(lambda x: x[0], data)))\n",
    "\n",
    "#get some stats about training and testing dataset\n",
    "diTrain = getStats(data)\n",
    "plotDict(diTrain, 'train.png',\"Order_Barcode\")\n",
    "\n",
    "# Create Labels for Classes\n",
    "diLabels = {}\n",
    "classId = 0;\n",
    "numClasses = len(diTrain)\n",
    "\n",
    "for item in diTrain:\n",
    "    classId += 1\n",
    "    diLabels[item] = classId;\n",
    "    \n",
    "print(diLabels)"
   ]
  },
  {
   "cell_type": "markdown",
   "metadata": {},
   "source": [
    "## Deleting the misrepresented classes. "
   ]
  },
  {
   "cell_type": "code",
   "execution_count": 4,
   "metadata": {
    "colab": {},
    "colab_type": "code",
    "id": "QJ59KLNAJXgO"
   },
   "outputs": [],
   "source": [
    "# Select the minimun amount of elements per class\n",
    "minimum = 25\n",
    "\n",
    "# Create Labels for Classes\n",
    "diLabels = {}\n",
    "classId = 0;\n",
    "numClasses = len(diTrain)\n",
    "\n",
    "i = 0\n",
    "while i < len(data):\n",
    "    if diTrain[data[i][0]] < minimum: \n",
    "        data.pop(i)\n",
    "    else: \n",
    "        i+=1"
   ]
  },
  {
   "cell_type": "code",
   "execution_count": 5,
   "metadata": {
    "colab": {
     "base_uri": "https://localhost:8080/",
     "height": 833
    },
    "colab_type": "code",
    "id": "cKfUfxgbwul0",
    "outputId": "6f9a5e13-2993-4728-e452-11df62696639"
   },
   "outputs": [
    {
     "name": "stdout",
     "output_type": "stream",
     "text": [
      "-----------some stats: ------------\n",
      "total num of classes:  20\n",
      "total num of samples:  5883\n",
      "max genome length:  10340\n",
      "occurences: \n",
      "BF       =>       34\n",
      "02A1     =>       41\n",
      "G        =>       75\n",
      "A1C      =>       75\n",
      "A1       =>      319\n",
      "BF1      =>      103\n",
      "CD       =>       59\n",
      "C        =>     1299\n",
      "F1       =>       57\n",
      "B        =>     2464\n",
      "BC       =>       85\n",
      "O        =>       51\n",
      "07_BC    =>       41\n",
      "D        =>       81\n",
      "01B      =>      104\n",
      "01_AE    =>      707\n",
      "08_BC    =>       36\n",
      "A1D      =>       75\n",
      "02_AG    =>      125\n",
      "A6       =>       52\n",
      "-----------------------------------\n"
     ]
    },
    {
     "data": {
      "image/png": "[encoded data removed]",
      "text/plain": [
       "<Figure size 432x288 with 1 Axes>"
      ]
     },
     "metadata": {
      "needs_background": "light"
     },
     "output_type": "display_data"
    },
    {
     "name": "stdout",
     "output_type": "stream",
     "text": [
      "{'BF': 34, '02A1': 41, 'G': 75, 'A1C': 75, 'A1': 319, 'BF1': 103, 'CD': 59, 'C': 1299, 'F1': 57, 'B': 2464, 'BC': 85, 'O': 51, '07_BC': 41, 'D': 81, '01B': 104, '01_AE': 707, '08_BC': 36, 'A1D': 75, '02_AG': 125, 'A6': 52}\n"
     ]
    }
   ],
   "source": [
    "# Select the maximum amount of elements per class\n",
    "maximum = 3000\n",
    "\n",
    "i = 0\n",
    "overrepresented_classes = []\n",
    "while i < len(data):\n",
    "    if diTrain[data[i][0]] > maximum:\n",
    "        if labels[i] not in overrepresented_classes:\n",
    "            overrepresented_classes.append(labels[i])\n",
    "    i+=1\n",
    "\n",
    "delete = False\n",
    "for label in overrepresented_classes:\n",
    "    count = 0\n",
    "    i = 0\n",
    "    while i < len(data):\n",
    "        if count == maximum:\n",
    "            delete = True\n",
    "        if labels[i] == label:\n",
    "            if not delete:\n",
    "                count += 1\n",
    "                i += 1\n",
    "            else:\n",
    "                data.pop(i)\n",
    "                sequences.pop(i)\n",
    "                labels.pop(i)\n",
    "        else:\n",
    "            i += 1\n",
    "    \n",
    "# get some stats about the training dataset\n",
    "diTrain = getStats(data)\n",
    "plotDict(diTrain, 'virus-families.png','Virus Families')\n",
    "print(diTrain)"
   ]
  },
  {
   "cell_type": "markdown",
   "metadata": {
    "colab_type": "text",
    "id": "ykrxfm6P1WPK"
   },
   "source": [
    "## Simple test without cross validation"
   ]
  },
  {
   "cell_type": "code",
   "execution_count": 6,
   "metadata": {
    "colab": {},
    "colab_type": "code",
    "id": "GebAOWxy2NOX"
   },
   "outputs": [],
   "source": [
    "# 70% of data for training and 30% for testing\n",
    "ratio = 0.7\n",
    "len_train_data = int(len(data) * ratio)\n",
    "\n",
    "random.shuffle(data)\n",
    "\n",
    "train = data[:len_train_data]\n",
    "test = data[len_train_data:]\n",
    "\n",
    "#Change the path to your convenience.\n",
    "\n",
    "with open('train.p', 'wb') as f:\n",
    "    pickle.dump(train, f)\n",
    "\n",
    "with open('test.p', 'wb') as f:\n",
    "    pickle.dump(test, f)"
   ]
  },
  {
   "cell_type": "markdown",
   "metadata": {
    "colab_type": "text",
    "id": "zsUdARRGLm_6"
   },
   "source": [
    "## **Training**"
   ]
  },
  {
   "cell_type": "code",
   "execution_count": 7,
   "metadata": {
    "colab": {},
    "colab_type": "code",
    "id": "vJ18_1exOYcA"
   },
   "outputs": [],
   "source": [
    "k = 5  # Select the value of k that you want to use. "
   ]
  },
  {
   "cell_type": "code",
   "execution_count": 8,
   "metadata": {
    "colab": {
     "base_uri": "https://localhost:8080/",
     "height": 1000
    },
    "colab_type": "code",
    "id": "RdwLlMKhyA2g",
    "outputId": "44d1b79a-3c08-458a-9daf-ab6d409ad8e6"
   },
   "outputs": [
    {
     "name": "stdout",
     "output_type": "stream",
     "text": [
      "-----------some stats: ------------\n",
      "total num of classes:  20\n",
      "total num of samples:  4118\n",
      "max genome length:  10340\n",
      "occurences: \n",
      "BF       =>       28\n",
      "02A1     =>       27\n",
      "G        =>       58\n",
      "A1C      =>       63\n",
      "A1       =>      232\n",
      "BF1      =>       76\n",
      "CD       =>       44\n",
      "C        =>      894\n",
      "F1       =>       35\n",
      "B        =>     1718\n",
      "BC       =>       51\n",
      "O        =>       35\n",
      "07_BC    =>       27\n",
      "D        =>       56\n",
      "01B      =>       73\n",
      "01_AE    =>      499\n",
      "08_BC    =>       25\n",
      "A1D      =>       54\n",
      "02_AG    =>       84\n",
      "A6       =>       39\n",
      "-----------------------------------\n"
     ]
    },
    {
     "data": {
      "image/png": "[encoded data removed]",
      "text/plain": [
       "<Figure size 432x288 with 1 Axes>"
      ]
     },
     "metadata": {
      "needs_background": "light"
     },
     "output_type": "display_data"
    },
    {
     "name": "stdout",
     "output_type": "stream",
     "text": [
      "{'BF': 1, '02A1': 2, 'G': 3, 'A1C': 4, 'A1': 5, 'BF1': 6, 'CD': 7, 'C': 8, 'F1': 9, 'B': 10, 'BC': 11, 'O': 12, '07_BC': 13, 'D': 14, '01B': 15, '01_AE': 16, '08_BC': 17, 'A1D': 18, '02_AG': 19, 'A6': 20}\n"
     ]
    }
   ],
   "source": [
    "unique_labels = list(set(map(lambda x: x[0], train)))\n",
    "\n",
    "#get some stats about training and testing dataset\n",
    "diTrain = getStats(train)\n",
    "plotDict(diTrain, 'train.png',\"Virus Families\")\n",
    "\n",
    "# Create Labels for Classes\n",
    "diLabels = {}\n",
    "classId = 0;\n",
    "numClasses = len(diTrain)\n",
    "\n",
    "for item in diTrain:\n",
    "    classId += 1\n",
    "    diLabels[item] = classId;\n",
    "    \n",
    "print(diLabels)"
   ]
  },
  {
   "cell_type": "code",
   "execution_count": 9,
   "metadata": {
    "colab": {},
    "colab_type": "code",
    "id": "rOEydXaC0VKJ"
   },
   "outputs": [],
   "source": [
    "n_train = len(train)\n",
    "train_features = []\n",
    "train_labels = []\n",
    "\n",
    "for i in range(len(train)):\n",
    "    train_features.append(kmer_count(train[i][1], k))\n",
    "    train_labels.append(train[i][0])\n",
    "       \n",
    "x = np.asarray(train_features).astype('float32')\n",
    "y = np.asarray(train_labels)"
   ]
  },
  {
   "cell_type": "code",
   "execution_count": 10,
   "metadata": {
    "colab": {},
    "colab_type": "code",
    "id": "KSMOMg1E1gBO"
   },
   "outputs": [],
   "source": [
    "features = normalize(x, norm='l2',axis=1) \n",
    "subtypes = np.asarray(train_labels)"
   ]
  },
  {
   "cell_type": "code",
   "execution_count": 11,
   "metadata": {
    "colab": {
     "base_uri": "https://localhost:8080/",
     "height": 35
    },
    "colab_type": "code",
    "id": "y0IVallh1FOA",
    "outputId": "f70550fc-e7b1-4e2b-aab1-443d00a42bb6"
   },
   "outputs": [
    {
     "name": "stdout",
     "output_type": "stream",
     "text": [
      "(4118, 1024)\n"
     ]
    }
   ],
   "source": [
    "print(features.shape)"
   ]
  },
  {
   "cell_type": "code",
   "execution_count": 12,
   "metadata": {
    "colab": {
     "base_uri": "https://localhost:8080/",
     "height": 251
    },
    "colab_type": "code",
    "id": "mQ5Cp9hk3Vx1",
    "outputId": "42234507-28b6-429e-f7c2-3d63bfd17289"
   },
   "outputs": [
    {
     "name": "stderr",
     "output_type": "stream",
     "text": [
      "/home/pmillana/anaconda3/lib/python3.7/site-packages/sklearn/svm/base.py:196: FutureWarning: The default value of gamma will change from 'auto' to 'scale' in version 0.22 to account better for unscaled features. Set gamma explicitly to 'auto' or 'scale' to avoid this warning.\n",
      "  \"avoid this warning.\", FutureWarning)\n"
     ]
    },
    {
     "data": {
      "text/plain": [
       "Pipeline(memory=None,\n",
       "     steps=[('scaler', StandardScaler(copy=True, with_mean=False, with_std=True)), ('dim_reducer', TruncatedSVD(algorithm='randomized', n_components=103, n_iter=5,\n",
       "       random_state=None, tol=0.0)), ('classifier', SVC(C=1.0, cache_size=200, class_weight=None, coef0=0.0,\n",
       "  decision_function_shape='ovr', degree=2, gamma='auto_deprecated',\n",
       "  kernel='poly', max_iter=-1, probability=False, random_state=None,\n",
       "  shrinking=True, tol=0.001, verbose=False))])"
      ]
     },
     "execution_count": 12,
     "metadata": {},
     "output_type": "execute_result"
    }
   ],
   "source": [
    "# Run the classification Pipeline for this subset.\n",
    "# Here you have the freedom to select your favorite classifier.\n",
    "# You don't have to follow our pipeline. You can add a CNN or \n",
    "# a MLP. \n",
    "\n",
    "pipeline = build_pipeline(4**k, 'poly-svm')\n",
    "pipeline.fit(features, subtypes)"
   ]
  },
  {
   "cell_type": "markdown",
   "metadata": {
    "colab_type": "text",
    "id": "3wA6bbBhNQAE"
   },
   "source": [
    "## **Testing**"
   ]
  },
  {
   "cell_type": "code",
   "execution_count": 13,
   "metadata": {
    "colab": {},
    "colab_type": "code",
    "id": "vYA0H-9_2yq4"
   },
   "outputs": [],
   "source": [
    "n_test = len(test)\n",
    "\n",
    "test_features = []\n",
    "test_labels = []\n",
    "\n",
    "for i in range(len(test)):\n",
    "    test_features.append(kmer_count(test[i][1], k))\n",
    "    test_labels.append(test[i][0])\n",
    "    \n",
    "x = np.asarray(test_features).astype('float32')\n",
    "y = np.asarray(test_labels)\n",
    "\n",
    "\n",
    "test_features = normalize(x, norm = 'l2', axis = 1) "
   ]
  },
  {
   "cell_type": "code",
   "execution_count": 14,
   "metadata": {
    "colab": {
     "base_uri": "https://localhost:8080/",
     "height": 1000
    },
    "colab_type": "code",
    "id": "xT7xBt5w27ld",
    "outputId": "eec16e8a-819f-426f-cb3a-ddec37697116"
   },
   "outputs": [
    {
     "name": "stdout",
     "output_type": "stream",
     "text": [
      "-----------some stats: ------------\n",
      "total num of classes:  20\n",
      "total num of samples:  1765\n",
      "max genome length:  9885\n",
      "occurences: \n",
      "BF       =>        6\n",
      "02A1     =>       14\n",
      "G        =>       17\n",
      "A1C      =>       12\n",
      "A1       =>       87\n",
      "BF1      =>       27\n",
      "CD       =>       15\n",
      "C        =>      405\n",
      "F1       =>       22\n",
      "B        =>      746\n",
      "BC       =>       34\n",
      "O        =>       16\n",
      "07_BC    =>       14\n",
      "D        =>       25\n",
      "01B      =>       31\n",
      "01_AE    =>      208\n",
      "08_BC    =>       11\n",
      "A1D      =>       21\n",
      "02_AG    =>       41\n",
      "A6       =>       13\n",
      "-----------------------------------\n"
     ]
    },
    {
     "data": {
      "image/png": "[encoded data removed]",
      "text/plain": [
       "<Figure size 432x288 with 1 Axes>"
      ]
     },
     "metadata": {
      "needs_background": "light"
     },
     "output_type": "display_data"
    },
    {
     "name": "stdout",
     "output_type": "stream",
     "text": [
      "{'BF': 6, '02A1': 14, 'G': 17, 'A1C': 12, 'A1': 87, 'BF1': 27, 'CD': 15, 'C': 405, 'F1': 22, 'B': 746, 'BC': 34, 'O': 16, '07_BC': 14, 'D': 25, '01B': 31, '01_AE': 208, '08_BC': 11, 'A1D': 21, '02_AG': 41, 'A6': 13}\n"
     ]
    }
   ],
   "source": [
    "#get some stats about the testing dataset\n",
    "diTrain = getStats(test)\n",
    "plotDict(diTrain, 'test.png','Virus Families')\n",
    "print(diTrain)"
   ]
  },
  {
   "cell_type": "code",
   "execution_count": 15,
   "metadata": {
    "colab": {
     "base_uri": "https://localhost:8080/",
     "height": 35
    },
    "colab_type": "code",
    "id": "xc0F46iM3Bh_",
    "outputId": "1a94ab25-81ac-484a-8a16-921ca5592ca2"
   },
   "outputs": [
    {
     "name": "stdout",
     "output_type": "stream",
     "text": [
      "0.9614730878186969\n"
     ]
    }
   ],
   "source": [
    "y_pred = pipeline.predict(test_features)\n",
    "print(accuracy_score(y, y_pred))"
   ]
  },
  {
   "cell_type": "markdown",
   "metadata": {
    "colab_type": "text",
    "id": "ozrBUNW2GJvD"
   },
   "source": [
    "### **10-fold cross validation**"
   ]
  },
  {
   "cell_type": "code",
   "execution_count": 16,
   "metadata": {
    "colab": {},
    "colab_type": "code",
    "id": "YGY0Ff1ZGPrQ"
   },
   "outputs": [],
   "source": [
    "def training(train_data, k, classifier):\n",
    "    n_train = len(train_data)\n",
    "    train_features = []\n",
    "    train_labels = []\n",
    "\n",
    "    for i in range(len(train_data)):\n",
    "        train_features.append(kmer_count(train_data[i][1], k))\n",
    "        train_labels.append(train_data[i][0])\n",
    "\n",
    "    x = np.asarray(train_features).astype('float32')\n",
    "    x = normalize(x, norm='l2', axis=1)\n",
    "    y = np.asarray(train_labels)\n",
    "\n",
    "    features = normalize(x, norm='l2', axis=1)\n",
    "    subtypes = np.asarray(train_labels)\n",
    "\n",
    "    # Run the classification Pipeline for this subset.\n",
    "    pipeline = build_pipeline(4 ** k, classifier)\n",
    "    pipeline.fit(features, subtypes)\n",
    "\n",
    "    return pipeline"
   ]
  },
  {
   "cell_type": "code",
   "execution_count": 19,
   "metadata": {
    "colab": {},
    "colab_type": "code",
    "id": "W33Tv4ioHiXI"
   },
   "outputs": [],
   "source": [
    "def testing(test_data, k, pipeline):\n",
    "    n_test = len(test_data)\n",
    "\n",
    "    test_features = []\n",
    "    test_labels = []\n",
    "\n",
    "    for i in range(len(test_data)):\n",
    "        test_features.append(kmer_count(test_data[i][1], k))\n",
    "        test_labels.append(test_data[i][0])\n",
    "\n",
    "    x = np.asarray(test_features).astype('float32')\n",
    "    y = np.asarray(test_labels)\n",
    "\n",
    "    test_features = normalize(x, norm='l2', axis=1)\n",
    "\n",
    "    y_pred = pipeline.predict(test_features)\n",
    "    cm = confusion_matrix(y, y_pred)\n",
    "    #plot_confusion_matrix(cm[:100][:100], test_labels[:100])\n",
    "\n",
    "    return accuracy_score(y, y_pred)"
   ]
  },
  {
   "cell_type": "code",
   "execution_count": 20,
   "metadata": {
    "colab": {
     "base_uri": "https://localhost:8080/",
     "height": 51
    },
    "colab_type": "code",
    "id": "iRPuSzsJHvF3",
    "outputId": "9c6efe3b-6637-431f-c58b-777ea32c1878"
   },
   "outputs": [
    {
     "name": "stdout",
     "output_type": "stream",
     "text": [
      "0\n",
      "linear-svm\n",
      "poly-svm\n"
     ]
    },
    {
     "name": "stderr",
     "output_type": "stream",
     "text": [
      "/home/pmillana/anaconda3/lib/python3.7/site-packages/sklearn/svm/base.py:196: FutureWarning: The default value of gamma will change from 'auto' to 'scale' in version 0.22 to account better for unscaled features. Set gamma explicitly to 'auto' or 'scale' to avoid this warning.\n",
      "  \"avoid this warning.\", FutureWarning)\n"
     ]
    },
    {
     "name": "stdout",
     "output_type": "stream",
     "text": [
      "rbf-svm\n"
     ]
    },
    {
     "name": "stderr",
     "output_type": "stream",
     "text": [
      "/home/pmillana/anaconda3/lib/python3.7/site-packages/sklearn/svm/base.py:196: FutureWarning: The default value of gamma will change from 'auto' to 'scale' in version 0.22 to account better for unscaled features. Set gamma explicitly to 'auto' or 'scale' to avoid this warning.\n",
      "  \"avoid this warning.\", FutureWarning)\n"
     ]
    },
    {
     "name": "stdout",
     "output_type": "stream",
     "text": [
      "LinearDiscriminant\n",
      "KNN\n",
      "**************************************************\n",
      "{'linear-svm': [0.9506802721088435], 'poly-svm': [0.9370748299319728], 'rbf-svm': [0.9217687074829932], 'lda': [0.9302721088435374], 'KNN': [0.9217687074829932]}\n",
      "accuracy of linear-svm: 0.9506802721088435\n",
      "accuracy of poly-svm: 0.9370748299319728\n",
      "accuracy of rbf-svm: 0.9217687074829932\n",
      "accuracy of LinearDiscriminant: 0.9302721088435374\n",
      "accuracy of KNN: 0.9217687074829932\n"
     ]
    }
   ],
   "source": [
    "k = 4\n",
    "classifiers = ['linear-svm', 'poly-svm', 'rbf-svm', 'lda', 'KNN']\n",
    "\n",
    "accuracies = {}\n",
    "index = 0\n",
    "step = int(len(data) / 10)\n",
    "random.shuffle(data)\n",
    "\n",
    "for classifier in classifiers:\n",
    "    accuracies[classifier] = []\n",
    "\n",
    "for i in range(10):\n",
    "    print(i)\n",
    "    train = data[:index] + data[index + step:]\n",
    "    test = data[index:index + step]\n",
    "    index = index + step\n",
    "\n",
    "    for classifier in classifiers:\n",
    "        print(classifier)\n",
    "        pipeline = training(train, k, classifier)\n",
    "        accuracies[classifier].append(testing(test, k, pipeline))\n",
    "    print('**************************************************')\n",
    "\n",
    "print(accuracies)\n",
    "for classifier in classifiers:\n",
    "    print('accuracy of ' + classifier + ': ' + str(statistics.mean(accuracies[classifier])))"
   ]
  },
  {
   "cell_type": "code",
   "execution_count": null,
   "metadata": {
    "colab": {
     "base_uri": "https://localhost:8080/",
     "height": 1000
    },
    "colab_type": "code",
    "id": "VQ4LNQ7Y1Gn4",
    "outputId": "47e70c04-efbd-46f7-cdad-d6cff9f6a09d"
   },
   "outputs": [],
   "source": [
    "k = 5\n",
    "classifiers = ['linear-svm', 'poly-svm', 'rbf-svm', 'lda', 'KNN']\n",
    "\n",
    "accuracies = {}\n",
    "index = 0\n",
    "step = int(len(data) / 10)\n",
    "random.shuffle(data)\n",
    "\n",
    "for classifier in classifiers:\n",
    "    accuracies[classifier] = []\n",
    "\n",
    "for i in range(10):\n",
    "    print(i)\n",
    "    train = data[:index] + data[index + step:]\n",
    "    test = data[index:index + step]\n",
    "    index = index + step\n",
    "\n",
    "    for classifier in classifiers:\n",
    "        print(classifier)\n",
    "        pipeline = training(train, k, classifier)\n",
    "        accuracies[classifier].append(testing(test, k, pipeline))\n",
    "    print('**************************************************')\n",
    "\n",
    "print(accuracies)\n",
    "for classifier in classifiers:\n",
    "    print('accuracy of ' + classifier + ': ' + str(statistics.mean(accuracies[classifier])))"
   ]
  },
  {
   "cell_type": "code",
   "execution_count": null,
   "metadata": {
    "colab": {
     "base_uri": "https://localhost:8080/",
     "height": 1000
    },
    "colab_type": "code",
    "id": "C8lcS4l31HHX",
    "outputId": "50f6c00c-1910-4bf9-d5af-8d1413d78b5f"
   },
   "outputs": [],
   "source": [
    "k = 6\n",
    "classifiers = ['linear-svm', 'poly-svm', 'rbf-svm', 'lda', 'KNN']\n",
    "\n",
    "accuracies = {}\n",
    "index = 0\n",
    "step = int(len(data) / 10)\n",
    "random.shuffle(data)\n",
    "\n",
    "for classifier in classifiers:\n",
    "    accuracies[classifier] = []\n",
    "\n",
    "for i in range(10):\n",
    "    print(i)\n",
    "    train = data[:index] + data[index + step:]\n",
    "    test = data[index:index + step]\n",
    "    index = index + step\n",
    "\n",
    "    for classifier in classifiers:\n",
    "        print(classifier)\n",
    "        pipeline = training(train, k, classifier)\n",
    "        accuracies[classifier].append(testing(test, k, pipeline))\n",
    "    print('**************************************************')\n",
    "\n",
    "print(accuracies)\n",
    "for classifier in classifiers:\n",
    "    print('accuracy of ' + classifier + ': ' + str(statistics.mean(accuracies[classifier])))"
   ]
  },
  {
   "cell_type": "code",
   "execution_count": null,
   "metadata": {
    "colab": {
     "base_uri": "https://localhost:8080/",
     "height": 1000
    },
    "colab_type": "code",
    "id": "iYVRyiiH1Hbn",
    "outputId": "8a04319b-8dc2-4071-a879-378ea21582a3"
   },
   "outputs": [],
   "source": [
    "k = 7\n",
    "classifiers = ['linear-svm', 'poly-svm', 'rbf-svm', 'lda', 'KNN']\n",
    "\n",
    "accuracies = {}\n",
    "index = 0\n",
    "step = int(len(data) / 10)\n",
    "random.shuffle(data)\n",
    "\n",
    "for classifier in classifiers:\n",
    "    accuracies[classifier] = []\n",
    "\n",
    "for i in range(10):\n",
    "    print(i)\n",
    "    train = data[:index] + data[index + step:]\n",
    "    test = data[index:index + step]\n",
    "    index = index + step\n",
    "\n",
    "    for classifier in classifiers:\n",
    "        print(classifier)\n",
    "        pipeline = training(train, k, classifier)\n",
    "        accuracies[classifier].append(testing(test, k, pipeline))\n",
    "    print('**************************************************')\n",
    "\n",
    "print(accuracies)\n",
    "for classifier in classifiers:\n",
    "    print('accuracy of ' + classifier + ': ' + str(statistics.mean(accuracies[classifier])))"
   ]
  }
 ],
 "metadata": {
  "colab": {
   "name": "Virus Classification.ipynb",
   "provenance": []
  },
  "kernelspec": {
   "display_name": "Python 3",
   "language": "python",
   "name": "python3"
  },
  "language_info": {
   "codemirror_mode": {
    "name": "ipython",
    "version": 3
   },
   "file_extension": ".py",
   "mimetype": "text/x-python",
   "name": "python",
   "nbconvert_exporter": "python",
   "pygments_lexer": "ipython3",
   "version": "3.7.3"
  }
 },
 "nbformat": 4,
 "nbformat_minor": 1
}
